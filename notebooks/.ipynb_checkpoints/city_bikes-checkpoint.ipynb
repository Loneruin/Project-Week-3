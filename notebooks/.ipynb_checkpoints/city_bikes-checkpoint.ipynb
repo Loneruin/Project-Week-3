{
 "cells": [
  {
   "cell_type": "markdown",
   "metadata": {},
   "source": [
    "# CityBikes"
   ]
  },
  {
   "cell_type": "markdown",
   "metadata": {},
   "source": [
    "Send a request to CityBikes for the city of your choice. "
   ]
  },
  {
   "cell_type": "code",
   "execution_count": 29,
   "metadata": {},
   "outputs": [],
   "source": [
    "import pandas as pd\n",
    "import json\n",
    "import requests\n",
    "from bs4 import BeautifulSoup\n",
    "import scipy as sp\n",
    "import numpy as np\n",
    "import pandas as pd\n",
    "from datetime import datetime\n",
    "import pandas_profiling"
   ]
  },
  {
   "cell_type": "code",
   "execution_count": null,
   "metadata": {},
   "outputs": [],
   "source": [
    "#Find href of specific location\n",
    "url = \"http://api.citybik.es/v2/networks\"\n",
    "header_dict = {'accept': 'application/JSON'}\n",
    "citybike =  requests.get(url, headers = header_dict)\n",
    "citybike.json()"
   ]
  },
  {
   "cell_type": "code",
   "execution_count": 4,
   "metadata": {},
   "outputs": [
    {
     "data": {
      "text/plain": [
       "<Response [200]>"
      ]
     },
     "execution_count": 4,
     "metadata": {},
     "output_type": "execute_result"
    }
   ],
   "source": [
    "citybike"
   ]
  },
  {
   "cell_type": "code",
   "execution_count": 31,
   "metadata": {},
   "outputs": [],
   "source": [
    "#Choose New York city for the project\n",
    "url = \"http://api.citybik.es/v2/networks/citi-bike-nyc\"\n",
    "header_dict = {'accept': 'application/JSON'}\n",
    "city_bike = requests.get(url, headers = header_dict)"
   ]
  },
  {
   "cell_type": "code",
   "execution_count": 46,
   "metadata": {
    "tags": []
   },
   "outputs": [
    {
     "data": {
      "text/plain": [
       "dict_keys(['network'])"
      ]
     },
     "execution_count": 46,
     "metadata": {},
     "output_type": "execute_result"
    }
   ],
   "source": [
    "#Use postman to make moscow_bike.json and load the file into notebook\n",
    "with open('nyc_bike1.json') as f:\n",
    "    nyc_bike = json.load(f)\n",
    "nyc_bike.keys()"
   ]
  },
  {
   "cell_type": "code",
   "execution_count": null,
   "metadata": {},
   "outputs": [],
   "source": []
  },
  {
   "cell_type": "markdown",
   "metadata": {},
   "source": [
    "Parse through the response to get the details you want for the bike stations in that city (latitude, longitude, number of bikes). "
   ]
  },
  {
   "cell_type": "code",
   "execution_count": 47,
   "metadata": {},
   "outputs": [
    {
     "data": {
      "text/plain": [
       "dict_keys(['company', 'ebikes', 'gbfs_href', 'href', 'id', 'location', 'name', 'stations'])"
      ]
     },
     "execution_count": 47,
     "metadata": {},
     "output_type": "execute_result"
    }
   ],
   "source": [
    "#Go down 1 level to network\n",
    "new_bike = nyc_bike['network']\n",
    "new_bike.keys()"
   ]
  },
  {
   "cell_type": "code",
   "execution_count": 49,
   "metadata": {},
   "outputs": [],
   "source": [
    "newnyc_bike =pd.json_normalize(new_bike,record_path='stations')"
   ]
  },
  {
   "cell_type": "code",
   "execution_count": 50,
   "metadata": {},
   "outputs": [
    {
     "data": {
      "text/html": [
       "<div>\n",
       "<style scoped>\n",
       "    .dataframe tbody tr th:only-of-type {\n",
       "        vertical-align: middle;\n",
       "    }\n",
       "\n",
       "    .dataframe tbody tr th {\n",
       "        vertical-align: top;\n",
       "    }\n",
       "\n",
       "    .dataframe thead th {\n",
       "        text-align: right;\n",
       "    }\n",
       "</style>\n",
       "<table border=\"1\" class=\"dataframe\">\n",
       "  <thead>\n",
       "    <tr style=\"text-align: right;\">\n",
       "      <th></th>\n",
       "      <th>empty_slots</th>\n",
       "      <th>free_bikes</th>\n",
       "      <th>id</th>\n",
       "      <th>latitude</th>\n",
       "      <th>longitude</th>\n",
       "      <th>name</th>\n",
       "      <th>timestamp</th>\n",
       "      <th>extra.ebikes</th>\n",
       "      <th>extra.has_ebikes</th>\n",
       "      <th>extra.last_updated</th>\n",
       "      <th>extra.payment</th>\n",
       "      <th>extra.payment-terminal</th>\n",
       "      <th>extra.renting</th>\n",
       "      <th>extra.returning</th>\n",
       "      <th>extra.slots</th>\n",
       "      <th>extra.uid</th>\n",
       "    </tr>\n",
       "  </thead>\n",
       "  <tbody>\n",
       "    <tr>\n",
       "      <th>0</th>\n",
       "      <td>26</td>\n",
       "      <td>8</td>\n",
       "      <td>46a983722ee1f51813a6a3eb6534a6e4</td>\n",
       "      <td>40.795000</td>\n",
       "      <td>-73.964500</td>\n",
       "      <td>W 100 St &amp; Manhattan Ave</td>\n",
       "      <td>2022-12-05T01:39:35.581000Z</td>\n",
       "      <td>4</td>\n",
       "      <td>True</td>\n",
       "      <td>1670201766</td>\n",
       "      <td>[creditcard, key]</td>\n",
       "      <td>True</td>\n",
       "      <td>1</td>\n",
       "      <td>1</td>\n",
       "      <td>39</td>\n",
       "      <td>3328</td>\n",
       "    </tr>\n",
       "    <tr>\n",
       "      <th>1</th>\n",
       "      <td>28</td>\n",
       "      <td>46</td>\n",
       "      <td>81872dcff5f0e5f1e042aafcc0bab6fd</td>\n",
       "      <td>40.766741</td>\n",
       "      <td>-73.979069</td>\n",
       "      <td>7 Ave &amp; Central Park South</td>\n",
       "      <td>2022-12-05T01:39:36.463000Z</td>\n",
       "      <td>7</td>\n",
       "      <td>True</td>\n",
       "      <td>1670203764</td>\n",
       "      <td>[creditcard, key]</td>\n",
       "      <td>True</td>\n",
       "      <td>1</td>\n",
       "      <td>1</td>\n",
       "      <td>81</td>\n",
       "      <td>3724</td>\n",
       "    </tr>\n",
       "    <tr>\n",
       "      <th>2</th>\n",
       "      <td>17</td>\n",
       "      <td>5</td>\n",
       "      <td>1ce1f825efba7112c62e0b05624fa501</td>\n",
       "      <td>40.676368</td>\n",
       "      <td>-73.952918</td>\n",
       "      <td>Bedford Ave &amp; Bergen St</td>\n",
       "      <td>2022-12-05T01:39:36.839000Z</td>\n",
       "      <td>3</td>\n",
       "      <td>True</td>\n",
       "      <td>1670203992</td>\n",
       "      <td>[creditcard, key]</td>\n",
       "      <td>True</td>\n",
       "      <td>1</td>\n",
       "      <td>1</td>\n",
       "      <td>24</td>\n",
       "      <td>3571</td>\n",
       "    </tr>\n",
       "    <tr>\n",
       "      <th>3</th>\n",
       "      <td>22</td>\n",
       "      <td>4</td>\n",
       "      <td>75a634e2473d7e3abf789c09c44fdf26</td>\n",
       "      <td>40.751047</td>\n",
       "      <td>-73.937970</td>\n",
       "      <td>28 St &amp; 41 Ave</td>\n",
       "      <td>2022-12-05T01:39:36.589000Z</td>\n",
       "      <td>0</td>\n",
       "      <td>True</td>\n",
       "      <td>1670201134</td>\n",
       "      <td>[creditcard, key]</td>\n",
       "      <td>True</td>\n",
       "      <td>1</td>\n",
       "      <td>1</td>\n",
       "      <td>27</td>\n",
       "      <td>3555</td>\n",
       "    </tr>\n",
       "    <tr>\n",
       "      <th>4</th>\n",
       "      <td>19</td>\n",
       "      <td>17</td>\n",
       "      <td>fdb4831d3335a9aea380117ea4f4b81a</td>\n",
       "      <td>40.801694</td>\n",
       "      <td>-73.957145</td>\n",
       "      <td>Frederick Douglass Blvd &amp; W 112 St</td>\n",
       "      <td>2022-12-05T01:39:36.590000Z</td>\n",
       "      <td>8</td>\n",
       "      <td>True</td>\n",
       "      <td>1670203930</td>\n",
       "      <td>[creditcard, key]</td>\n",
       "      <td>True</td>\n",
       "      <td>1</td>\n",
       "      <td>1</td>\n",
       "      <td>37</td>\n",
       "      <td>3553</td>\n",
       "    </tr>\n",
       "    <tr>\n",
       "      <th>...</th>\n",
       "      <td>...</td>\n",
       "      <td>...</td>\n",
       "      <td>...</td>\n",
       "      <td>...</td>\n",
       "      <td>...</td>\n",
       "      <td>...</td>\n",
       "      <td>...</td>\n",
       "      <td>...</td>\n",
       "      <td>...</td>\n",
       "      <td>...</td>\n",
       "      <td>...</td>\n",
       "      <td>...</td>\n",
       "      <td>...</td>\n",
       "      <td>...</td>\n",
       "      <td>...</td>\n",
       "      <td>...</td>\n",
       "    </tr>\n",
       "    <tr>\n",
       "      <th>1732</th>\n",
       "      <td>10</td>\n",
       "      <td>28</td>\n",
       "      <td>892717fce286df80cda6899bbd734fff</td>\n",
       "      <td>40.773407</td>\n",
       "      <td>-73.977825</td>\n",
       "      <td>Central Park West &amp; W 68 St</td>\n",
       "      <td>2022-12-05T01:39:36.852000Z</td>\n",
       "      <td>6</td>\n",
       "      <td>True</td>\n",
       "      <td>1670202950</td>\n",
       "      <td>[creditcard, key]</td>\n",
       "      <td>True</td>\n",
       "      <td>1</td>\n",
       "      <td>1</td>\n",
       "      <td>43</td>\n",
       "      <td>3163</td>\n",
       "    </tr>\n",
       "    <tr>\n",
       "      <th>1733</th>\n",
       "      <td>43</td>\n",
       "      <td>4</td>\n",
       "      <td>93fc1a7685f14c2e77c6b4531bab8049</td>\n",
       "      <td>40.744697</td>\n",
       "      <td>-73.935404</td>\n",
       "      <td>31 St &amp; Thomson Ave</td>\n",
       "      <td>2022-12-05T01:39:36.407000Z</td>\n",
       "      <td>1</td>\n",
       "      <td>True</td>\n",
       "      <td>1670197059</td>\n",
       "      <td>[creditcard, key]</td>\n",
       "      <td>True</td>\n",
       "      <td>1</td>\n",
       "      <td>1</td>\n",
       "      <td>47</td>\n",
       "      <td>3123</td>\n",
       "    </tr>\n",
       "    <tr>\n",
       "      <th>1734</th>\n",
       "      <td>7</td>\n",
       "      <td>13</td>\n",
       "      <td>4efb7a74022be4c227e19a5f731c33d9</td>\n",
       "      <td>40.745984</td>\n",
       "      <td>-74.028199</td>\n",
       "      <td>8 St &amp; Washington St</td>\n",
       "      <td>2022-12-05T01:39:35.557000Z</td>\n",
       "      <td>10</td>\n",
       "      <td>True</td>\n",
       "      <td>1670203226</td>\n",
       "      <td>[creditcard, key]</td>\n",
       "      <td>True</td>\n",
       "      <td>1</td>\n",
       "      <td>1</td>\n",
       "      <td>21</td>\n",
       "      <td>4528</td>\n",
       "    </tr>\n",
       "    <tr>\n",
       "      <th>1735</th>\n",
       "      <td>13</td>\n",
       "      <td>11</td>\n",
       "      <td>2938b9e5d210d71e4a00c24179838c6e</td>\n",
       "      <td>40.748161</td>\n",
       "      <td>-74.032453</td>\n",
       "      <td>Columbus Park - Clinton St &amp; 9 St</td>\n",
       "      <td>2022-12-05T01:39:35.560000Z</td>\n",
       "      <td>9</td>\n",
       "      <td>True</td>\n",
       "      <td>1670197955</td>\n",
       "      <td>[creditcard, key]</td>\n",
       "      <td>True</td>\n",
       "      <td>1</td>\n",
       "      <td>1</td>\n",
       "      <td>26</td>\n",
       "      <td>4524</td>\n",
       "    </tr>\n",
       "    <tr>\n",
       "      <th>1736</th>\n",
       "      <td>4</td>\n",
       "      <td>22</td>\n",
       "      <td>2efb7c3068c3a7dc1c2c5dcafb03489e</td>\n",
       "      <td>40.719105</td>\n",
       "      <td>-73.999733</td>\n",
       "      <td>Howard St &amp; Lafayette St</td>\n",
       "      <td>2022-12-05T01:39:36.904000Z</td>\n",
       "      <td>2</td>\n",
       "      <td>True</td>\n",
       "      <td>1670203257</td>\n",
       "      <td>[creditcard, key]</td>\n",
       "      <td>True</td>\n",
       "      <td>1</td>\n",
       "      <td>1</td>\n",
       "      <td>27</td>\n",
       "      <td>268</td>\n",
       "    </tr>\n",
       "  </tbody>\n",
       "</table>\n",
       "<p>1737 rows × 16 columns</p>\n",
       "</div>"
      ],
      "text/plain": [
       "      empty_slots  free_bikes                                id   latitude  \\\n",
       "0              26           8  46a983722ee1f51813a6a3eb6534a6e4  40.795000   \n",
       "1              28          46  81872dcff5f0e5f1e042aafcc0bab6fd  40.766741   \n",
       "2              17           5  1ce1f825efba7112c62e0b05624fa501  40.676368   \n",
       "3              22           4  75a634e2473d7e3abf789c09c44fdf26  40.751047   \n",
       "4              19          17  fdb4831d3335a9aea380117ea4f4b81a  40.801694   \n",
       "...           ...         ...                               ...        ...   \n",
       "1732           10          28  892717fce286df80cda6899bbd734fff  40.773407   \n",
       "1733           43           4  93fc1a7685f14c2e77c6b4531bab8049  40.744697   \n",
       "1734            7          13  4efb7a74022be4c227e19a5f731c33d9  40.745984   \n",
       "1735           13          11  2938b9e5d210d71e4a00c24179838c6e  40.748161   \n",
       "1736            4          22  2efb7c3068c3a7dc1c2c5dcafb03489e  40.719105   \n",
       "\n",
       "      longitude                                name  \\\n",
       "0    -73.964500            W 100 St & Manhattan Ave   \n",
       "1    -73.979069          7 Ave & Central Park South   \n",
       "2    -73.952918             Bedford Ave & Bergen St   \n",
       "3    -73.937970                      28 St & 41 Ave   \n",
       "4    -73.957145  Frederick Douglass Blvd & W 112 St   \n",
       "...         ...                                 ...   \n",
       "1732 -73.977825         Central Park West & W 68 St   \n",
       "1733 -73.935404                 31 St & Thomson Ave   \n",
       "1734 -74.028199                8 St & Washington St   \n",
       "1735 -74.032453   Columbus Park - Clinton St & 9 St   \n",
       "1736 -73.999733            Howard St & Lafayette St   \n",
       "\n",
       "                        timestamp  extra.ebikes  extra.has_ebikes  \\\n",
       "0     2022-12-05T01:39:35.581000Z             4              True   \n",
       "1     2022-12-05T01:39:36.463000Z             7              True   \n",
       "2     2022-12-05T01:39:36.839000Z             3              True   \n",
       "3     2022-12-05T01:39:36.589000Z             0              True   \n",
       "4     2022-12-05T01:39:36.590000Z             8              True   \n",
       "...                           ...           ...               ...   \n",
       "1732  2022-12-05T01:39:36.852000Z             6              True   \n",
       "1733  2022-12-05T01:39:36.407000Z             1              True   \n",
       "1734  2022-12-05T01:39:35.557000Z            10              True   \n",
       "1735  2022-12-05T01:39:35.560000Z             9              True   \n",
       "1736  2022-12-05T01:39:36.904000Z             2              True   \n",
       "\n",
       "      extra.last_updated      extra.payment  extra.payment-terminal  \\\n",
       "0             1670201766  [creditcard, key]                    True   \n",
       "1             1670203764  [creditcard, key]                    True   \n",
       "2             1670203992  [creditcard, key]                    True   \n",
       "3             1670201134  [creditcard, key]                    True   \n",
       "4             1670203930  [creditcard, key]                    True   \n",
       "...                  ...                ...                     ...   \n",
       "1732          1670202950  [creditcard, key]                    True   \n",
       "1733          1670197059  [creditcard, key]                    True   \n",
       "1734          1670203226  [creditcard, key]                    True   \n",
       "1735          1670197955  [creditcard, key]                    True   \n",
       "1736          1670203257  [creditcard, key]                    True   \n",
       "\n",
       "      extra.renting  extra.returning  extra.slots extra.uid  \n",
       "0                 1                1           39      3328  \n",
       "1                 1                1           81      3724  \n",
       "2                 1                1           24      3571  \n",
       "3                 1                1           27      3555  \n",
       "4                 1                1           37      3553  \n",
       "...             ...              ...          ...       ...  \n",
       "1732              1                1           43      3163  \n",
       "1733              1                1           47      3123  \n",
       "1734              1                1           21      4528  \n",
       "1735              1                1           26      4524  \n",
       "1736              1                1           27       268  \n",
       "\n",
       "[1737 rows x 16 columns]"
      ]
     },
     "execution_count": 50,
     "metadata": {},
     "output_type": "execute_result"
    }
   ],
   "source": [
    "newnyc_bike"
   ]
  },
  {
   "cell_type": "markdown",
   "metadata": {},
   "source": [
    "Put your parsed results into a DataFrame."
   ]
  },
  {
   "cell_type": "code",
   "execution_count": 45,
   "metadata": {},
   "outputs": [],
   "source": [
    "newnyc_bike1.to_csv('newnyc_bike1.csv', index=False)"
   ]
  },
  {
   "cell_type": "code",
   "execution_count": 44,
   "metadata": {},
   "outputs": [],
   "source": [
    "newnyc_bike1 = newnyc_bike.head(1)"
   ]
  },
  {
   "cell_type": "code",
   "execution_count": null,
   "metadata": {},
   "outputs": [],
   "source": []
  }
 ],
 "metadata": {
  "kernelspec": {
   "display_name": "Python 3 (ipykernel)",
   "language": "python",
   "name": "python3"
  },
  "language_info": {
   "codemirror_mode": {
    "name": "ipython",
    "version": 3
   },
   "file_extension": ".py",
   "mimetype": "text/x-python",
   "name": "python",
   "nbconvert_exporter": "python",
   "pygments_lexer": "ipython3",
   "version": "3.10.6"
  }
 },
 "nbformat": 4,
 "nbformat_minor": 4
}
